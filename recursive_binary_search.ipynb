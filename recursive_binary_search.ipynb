{
 "cells": [
  {
   "cell_type": "code",
   "execution_count": 19,
   "id": "1a9fe25e",
   "metadata": {},
   "outputs": [
    {
     "name": "stdout",
     "output_type": "stream",
     "text": [
      "target value found: False\n"
     ]
    }
   ],
   "source": [
    "def recursive_binary_search(list, target):\n",
    "    if len(list) == 0:\n",
    "        return False\n",
    "    else:\n",
    "        midpoint = (len(list)//2)\n",
    "        if list[midpoint] == target:\n",
    "            return True\n",
    "        else:\n",
    "            if list[midpoint] < target:\n",
    "                return recursive_binary_search(list[midpoint+1:], target)\n",
    "            else:\n",
    "                return recursive_binary_search(list[:midpoint], target)\n",
    "            \n",
    "            \n",
    "            \n",
    "def verify(result):\n",
    "    if True:\n",
    "        print(\"target value found:\", result)\n",
    "    else:\n",
    "        print(\"target value not found:\", result)\n",
    "\n",
    "\n",
    "numbers = [1, 2, 3, 4, 5, 6, 7, 8, 9]\n",
    "\n",
    "result = recursive_binary_search(numbers, 12)\n",
    "verify(result)"
   ]
  },
  {
   "cell_type": "code",
   "execution_count": null,
   "id": "f0cfd861",
   "metadata": {},
   "outputs": [],
   "source": []
  }
 ],
 "metadata": {
  "kernelspec": {
   "display_name": "Python 3 (ipykernel)",
   "language": "python",
   "name": "python3"
  },
  "language_info": {
   "codemirror_mode": {
    "name": "ipython",
    "version": 3
   },
   "file_extension": ".py",
   "mimetype": "text/x-python",
   "name": "python",
   "nbconvert_exporter": "python",
   "pygments_lexer": "ipython3",
   "version": "3.9.12"
  }
 },
 "nbformat": 4,
 "nbformat_minor": 5
}
